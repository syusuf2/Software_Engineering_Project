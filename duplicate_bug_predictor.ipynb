{
 "cells": [
  {
   "cell_type": "markdown",
   "metadata": {},
   "source": [
    "# Importing Libraries"
   ]
  },
  {
   "cell_type": "code",
   "execution_count": 1,
   "metadata": {},
   "outputs": [],
   "source": [
    "import pandas as pd \n",
    "import numpy as np\n",
    "from nltk.tokenize import word_tokenize\n",
    "from nltk.stem import WordNetLemmatizer,PorterStemmer\n",
    "from nltk.corpus import stopwords\n",
    "import re\n",
    "import matplotlib.pyplot as plt\n",
    "import string\n",
    "from numpy import array\n",
    "from tensorflow.keras.preprocessing.text import Tokenizer\n",
    "from tensorflow.keras.preprocessing.sequence import pad_sequences\n",
    "from tensorflow.keras.models import Sequential\n",
    "from tensorflow.keras.layers import Activation, Dropout, Dense\n",
    "from tensorflow.keras.callbacks import EarlyStopping\n",
    "from tensorflow.keras.layers import Dense, Embedding, LSTM, SpatialDropout1D, SimpleRNN\n",
    "from tensorflow.keras.models import Model\n",
    "from tensorflow.keras.layers import Input\n",
    "from tensorflow.keras.optimizers import RMSprop"
   ]
  },
  {
   "cell_type": "markdown",
   "metadata": {},
   "source": [
    "# Loading the data"
   ]
  },
  {
   "cell_type": "code",
   "execution_count": 2,
   "metadata": {},
   "outputs": [],
   "source": [
    "df = pd.read_csv('mozilla_core.csv')\n",
    "# filtering the dataset for only useful columns\n",
    "df = df[['Title','Description','Resolution']]\n",
    "\n",
    "# dropping the rows having missing values\n",
    "df.dropna(inplace = True)"
   ]
  },
  {
   "cell_type": "markdown",
   "metadata": {},
   "source": [
    "# Creating labels for the dataset"
   ]
  },
  {
   "cell_type": "code",
   "execution_count": 3,
   "metadata": {},
   "outputs": [],
   "source": [
    "# creating a list that will sore the target labels\n",
    "target = []\n",
    "\n",
    "# iterating through the resolution column and setting 1 if duplicate and 0 if not\n",
    "for i in df['Resolution']:\n",
    "    if 'duplicate' in i.lower():\n",
    "        target.append(1)\n",
    "    else:\n",
    "        target.append(0)\n",
    "        \n",
    "# creating a column named Target and storing the target list values in it        \n",
    "df['Target'] = target "
   ]
  },
  {
   "cell_type": "code",
   "execution_count": 44,
   "metadata": {},
   "outputs": [
    {
     "data": {
      "text/html": [
       "<div>\n",
       "<style scoped>\n",
       "    .dataframe tbody tr th:only-of-type {\n",
       "        vertical-align: middle;\n",
       "    }\n",
       "\n",
       "    .dataframe tbody tr th {\n",
       "        vertical-align: top;\n",
       "    }\n",
       "\n",
       "    .dataframe thead th {\n",
       "        text-align: right;\n",
       "    }\n",
       "</style>\n",
       "<table border=\"1\" class=\"dataframe\">\n",
       "  <thead>\n",
       "    <tr style=\"text-align: right;\">\n",
       "      <th></th>\n",
       "      <th>Title</th>\n",
       "      <th>Description</th>\n",
       "      <th>Resolution</th>\n",
       "      <th>Target</th>\n",
       "      <th>text</th>\n",
       "    </tr>\n",
       "  </thead>\n",
       "  <tbody>\n",
       "    <tr>\n",
       "      <th>100550</th>\n",
       "      <td>shutdown crash [@ nsAppStartup::HandleExitEven...</td>\n",
       "      <td>steps:; run winembed; load chrome://global/con...</td>\n",
       "      <td>WORKSFORME</td>\n",
       "      <td>0</td>\n",
       "      <td>shutdown crash nsappstartuphandleexitevent map...</td>\n",
       "    </tr>\n",
       "    <tr>\n",
       "      <th>156124</th>\n",
       "      <td>useless assert of free_block [@ CodeAlloc::free]</td>\n",
       "      <td>147     void CodeAlloc::free(NIns* start; NIns...</td>\n",
       "      <td>FIXED</td>\n",
       "      <td>0</td>\n",
       "      <td>useless assert freeblock codeallocfree void co...</td>\n",
       "    </tr>\n",
       "    <tr>\n",
       "      <th>165795</th>\n",
       "      <td>expose layout-guess: true object attribute for...</td>\n",
       "      <td>We should expose layout-guess: true object att...</td>\n",
       "      <td>FIXED</td>\n",
       "      <td>0</td>\n",
       "      <td>expose layoutguess true object attribute datat...</td>\n",
       "    </tr>\n",
       "    <tr>\n",
       "      <th>61730</th>\n",
       "      <td>Use OS-specific scrollbars in Print Prview as ...</td>\n",
       "      <td>Why are the scrollbars in Print Preview differ...</td>\n",
       "      <td>DUPLICATE</td>\n",
       "      <td>1</td>\n",
       "      <td>use osspecific scrollbars print prview well sc...</td>\n",
       "    </tr>\n",
       "    <tr>\n",
       "      <th>120910</th>\n",
       "      <td>Crash while trying to print [@ @0x0 @0x1000 _c...</td>\n",
       "      <td>With every page; this crash happens for me her...</td>\n",
       "      <td>FIXED</td>\n",
       "      <td>0</td>\n",
       "      <td>crash trying print x x cairometasurfacecreate ...</td>\n",
       "    </tr>\n",
       "  </tbody>\n",
       "</table>\n",
       "</div>"
      ],
      "text/plain": [
       "                                                    Title  \\\n",
       "100550  shutdown crash [@ nsAppStartup::HandleExitEven...   \n",
       "156124   useless assert of free_block [@ CodeAlloc::free]   \n",
       "165795  expose layout-guess: true object attribute for...   \n",
       "61730   Use OS-specific scrollbars in Print Prview as ...   \n",
       "120910  Crash while trying to print [@ @0x0 @0x1000 _c...   \n",
       "\n",
       "                                              Description  Resolution  Target  \\\n",
       "100550  steps:; run winembed; load chrome://global/con...  WORKSFORME       0   \n",
       "156124  147     void CodeAlloc::free(NIns* start; NIns...       FIXED       0   \n",
       "165795  We should expose layout-guess: true object att...       FIXED       0   \n",
       "61730   Why are the scrollbars in Print Preview differ...   DUPLICATE       1   \n",
       "120910  With every page; this crash happens for me her...       FIXED       0   \n",
       "\n",
       "                                                     text  \n",
       "100550  shutdown crash nsappstartuphandleexitevent map...  \n",
       "156124  useless assert freeblock codeallocfree void co...  \n",
       "165795  expose layoutguess true object attribute datat...  \n",
       "61730   use osspecific scrollbars print prview well sc...  \n",
       "120910  crash trying print x x cairometasurfacecreate ...  "
      ]
     },
     "execution_count": 44,
     "metadata": {},
     "output_type": "execute_result"
    }
   ],
   "source": [
    "df.head()"
   ]
  },
  {
   "cell_type": "markdown",
   "metadata": {},
   "source": [
    "# Checking for balanced dataset"
   ]
  },
  {
   "cell_type": "code",
   "execution_count": 4,
   "metadata": {},
   "outputs": [
    {
     "name": "stdout",
     "output_type": "stream",
     "text": [
      "class 0: (156997, 4)\n",
      "class 1: (44651, 4)\n"
     ]
    },
    {
     "data": {
      "image/png": "[encoded data removed]",
      "text/plain": [
       "<Figure size 432x288 with 1 Axes>"
      ]
     },
     "metadata": {
      "needs_background": "light"
     },
     "output_type": "display_data"
    }
   ],
   "source": [
    "class_count_0, class_count_1 = df['Target'].value_counts()\n",
    "\n",
    "# Separate class\n",
    "class_0 = df[df['Target'] == 0]\n",
    "class_1 = df[df['Target'] == 1]\n",
    "\n",
    "# print the shape of the class\n",
    "print('class 0:', class_0.shape)\n",
    "print('class 1:', class_1.shape)\n",
    "\n",
    "bar = plt.bar(['0','1'],df['Target'].value_counts())\n",
    "bar[0].set_color('r')"
   ]
  },
  {
   "cell_type": "code",
   "execution_count": 5,
   "metadata": {},
   "outputs": [
    {
     "data": {
      "image/png": "[encoded data removed]",
      "text/plain": [
       "<Figure size 432x288 with 1 Axes>"
      ]
     },
     "metadata": {
      "needs_background": "light"
     },
     "output_type": "display_data"
    }
   ],
   "source": [
    "# balancing the dataset using undersampling as the dataset is highly imbalanced\n",
    "class_0_under = class_0.sample(class_count_1)\n",
    "\n",
    "df = pd.concat([class_0_under, class_1], axis=0)\n",
    "\n",
    "# plot the count after under-sampeling\n",
    "bar = plt.bar(['0','1'],df['Target'].value_counts())\n",
    "bar[0].set_color('r')"
   ]
  },
  {
   "cell_type": "code",
   "execution_count": 45,
   "metadata": {},
   "outputs": [
    {
     "data": {
      "text/html": [
       "<div>\n",
       "<style scoped>\n",
       "    .dataframe tbody tr th:only-of-type {\n",
       "        vertical-align: middle;\n",
       "    }\n",
       "\n",
       "    .dataframe tbody tr th {\n",
       "        vertical-align: top;\n",
       "    }\n",
       "\n",
       "    .dataframe thead th {\n",
       "        text-align: right;\n",
       "    }\n",
       "</style>\n",
       "<table border=\"1\" class=\"dataframe\">\n",
       "  <thead>\n",
       "    <tr style=\"text-align: right;\">\n",
       "      <th></th>\n",
       "      <th>text</th>\n",
       "      <th>Target</th>\n",
       "    </tr>\n",
       "  </thead>\n",
       "  <tbody>\n",
       "    <tr>\n",
       "      <th>110188</th>\n",
       "      <td>Method queryCommandState doesnt get correct st...</td>\n",
       "      <td>0</td>\n",
       "    </tr>\n",
       "    <tr>\n",
       "      <th>33300</th>\n",
       "      <td>Mac Scrollwheel support does not work with Ken...</td>\n",
       "      <td>1</td>\n",
       "    </tr>\n",
       "    <tr>\n",
       "      <th>202621</th>\n",
       "      <td>Use a draw target in ThebesLayerBuffer::PaintS...</td>\n",
       "      <td>0</td>\n",
       "    </tr>\n",
       "    <tr>\n",
       "      <th>9771</th>\n",
       "      <td>Exclude certain items from the script-generate...</td>\n",
       "      <td>0</td>\n",
       "    </tr>\n",
       "    <tr>\n",
       "      <th>19415</th>\n",
       "      <td>ftp download never ends Downloading over ftp w...</td>\n",
       "      <td>1</td>\n",
       "    </tr>\n",
       "  </tbody>\n",
       "</table>\n",
       "</div>"
      ],
      "text/plain": [
       "                                                     text  Target\n",
       "110188  Method queryCommandState doesnt get correct st...       0\n",
       "33300   Mac Scrollwheel support does not work with Ken...       1\n",
       "202621  Use a draw target in ThebesLayerBuffer::PaintS...       0\n",
       "9771    Exclude certain items from the script-generate...       0\n",
       "19415   ftp download never ends Downloading over ftp w...       1"
      ]
     },
     "execution_count": 45,
     "metadata": {},
     "output_type": "execute_result"
    }
   ],
   "source": [
    "# shuffling the dataset \n",
    "df = df.sample(frac=1) \n",
    "\n",
    "# creating a new column and adding the title and description in it \n",
    "df['text'] = df['Title'] +' '+ df['Description']\n",
    "df = df[['text','Target']]\n",
    "df.head()"
   ]
  },
  {
   "cell_type": "markdown",
   "metadata": {},
   "source": [
    "# Preprocessing the dataset"
   ]
  },
  {
   "cell_type": "code",
   "execution_count": 7,
   "metadata": {},
   "outputs": [],
   "source": [
    "# converting the text to lowercase\n",
    "def lower(words):\n",
    "    return words.lower()\n",
    "df['text']=df['text'].apply(lambda x:lower(x))"
   ]
  },
  {
   "cell_type": "code",
   "execution_count": 8,
   "metadata": {},
   "outputs": [],
   "source": [
    "# removing the numbers from the text\n",
    "def remove_numbers(words):\n",
    "    return re.sub(r'\\d+','',words)\n",
    "df['text']=df['text'].apply(lambda x: remove_numbers(x))"
   ]
  },
  {
   "cell_type": "code",
   "execution_count": 9,
   "metadata": {},
   "outputs": [],
   "source": [
    "# removing the puctuations from the text\n",
    "def remove_punctuation(words):\n",
    "    table=str.maketrans('','',string.punctuation)\n",
    "    return words.translate(table)\n",
    "df['text']=df['text'].apply(lambda x: remove_punctuation(x))\n"
   ]
  },
  {
   "cell_type": "code",
   "execution_count": 10,
   "metadata": {},
   "outputs": [],
   "source": [
    "# tokenizing the text column\n",
    "df['text']=df['text'].apply(lambda x:word_tokenize(x))\n",
    "def remove_stopwords(words):\n",
    "    stop_words=set(stopwords.words('english'))\n",
    "    return [word for word in words if word not in stop_words]\n",
    "df['text']=df['text'].apply(lambda x: remove_stopwords(x))"
   ]
  },
  {
   "cell_type": "code",
   "execution_count": 11,
   "metadata": {},
   "outputs": [],
   "source": [
    "# Lemmatizing the text column\n",
    "def lemmatizing(words):\n",
    "    lemmatizer =WordNetLemmatizer()\n",
    "    return [lemmatizer.lemmatize(word) for word in words]\n",
    "df['text']=df['text'].apply(lambda x: lemmatizing(x))"
   ]
  },
  {
   "cell_type": "code",
   "execution_count": 12,
   "metadata": {},
   "outputs": [],
   "source": [
    "# joining or merging the tokenized text\n",
    "def final_text(words):\n",
    "     return ' '.join(words)\n",
    "df['text']=df['text'].apply(lambda x:final_text(x))"
   ]
  },
  {
   "cell_type": "markdown",
   "metadata": {},
   "source": [
    "# Vectorizing (Feature Extraction)"
   ]
  },
  {
   "cell_type": "code",
   "execution_count": 15,
   "metadata": {},
   "outputs": [],
   "source": [
    "\n",
    "MAX_NB_WORDS = 5000\n",
    "# Max number of words in each complaint.\n",
    "MAX_SEQUENCE_LENGTH = 250\n",
    "\n",
    "EMBEDDING_DIM = 100\n",
    "\n",
    "tokenizer = Tokenizer(num_words=MAX_NB_WORDS)\n",
    "tokenizer.fit_on_texts(df['text'].values)\n",
    "word_index = tokenizer.word_index\n",
    "\n",
    "X = tokenizer.texts_to_sequences(df['text'].values)\n",
    "X = pad_sequences(X, maxlen=MAX_SEQUENCE_LENGTH)\n",
    "Y = df['Target']\n",
    "\n"
   ]
  },
  {
   "cell_type": "markdown",
   "metadata": {},
   "source": [
    "# Splitting the dataset into train and test"
   ]
  },
  {
   "cell_type": "code",
   "execution_count": 31,
   "metadata": {},
   "outputs": [
    {
     "name": "stdout",
     "output_type": "stream",
     "text": [
      "(86302, 250) (86302,)\n",
      "(3000, 250) (3000,)\n"
     ]
    }
   ],
   "source": [
    "X_train = X[:len(X)-3000]\n",
    "X_test = X[len(X)-3000:]\n",
    "Y_train = Y[:len(X)-3000]\n",
    "Y_test = Y[len(X)-3000:]\n",
    "print(X_train.shape,Y_train.shape)\n",
    "print(X_test.shape,Y_test.shape)"
   ]
  },
  {
   "cell_type": "markdown",
   "metadata": {},
   "source": [
    "# Model fitting and predictions"
   ]
  },
  {
   "cell_type": "code",
   "execution_count": 36,
   "metadata": {},
   "outputs": [],
   "source": [
    "# creating function for the two deep learning models and setting the input layers for them.\n",
    "def LSTM_model():\n",
    "    inputs = Input(name='inputs',shape=[MAX_SEQUENCE_LENGTH])\n",
    "    layer = Embedding(MAX_NB_WORDS,100,input_length=MAX_SEQUENCE_LENGTH)(inputs)\n",
    "    layer = LSTM(100)(layer)\n",
    "    layer = Dense(64,name='FC1')(layer)\n",
    "    layer = Activation('relu')(layer)\n",
    "    layer = Dropout(0.5)(layer)\n",
    "    layer = Dense(1,name='out_layer')(layer)\n",
    "    layer = Activation('sigmoid')(layer)\n",
    "    model = Model(inputs=inputs,outputs=layer)\n",
    "    return model\n",
    "\n",
    "def SimpleRNN_model():\n",
    "    inputs = Input(name='inputs',shape=[MAX_SEQUENCE_LENGTH])\n",
    "    layer = Embedding(MAX_NB_WORDS,100,input_length=MAX_SEQUENCE_LENGTH)(inputs)\n",
    "    layer = SimpleRNN(units=100)(layer)\n",
    "    layer = Dense(64,name='FC1')(layer)\n",
    "    layer = Activation('relu')(layer)\n",
    "    layer = Dropout(0.5)(layer)\n",
    "    layer = Dense(1,name='out_layer')(layer)\n",
    "    layer = Activation('sigmoid')(layer)\n",
    "    model = Model(inputs=inputs,outputs=layer)\n",
    "    return model"
   ]
  },
  {
   "cell_type": "code",
   "execution_count": 39,
   "metadata": {},
   "outputs": [
    {
     "name": "stdout",
     "output_type": "stream",
     "text": [
      "Model: \"model_12\"\n",
      "_________________________________________________________________\n",
      "Layer (type)                 Output Shape              Param #   \n",
      "=================================================================\n",
      "inputs (InputLayer)          [(None, 250)]             0         \n",
      "_________________________________________________________________\n",
      "embedding_12 (Embedding)     (None, 250, 100)          500000    \n",
      "_________________________________________________________________\n",
      "lstm_7 (LSTM)                (None, 100)               80400     \n",
      "_________________________________________________________________\n",
      "FC1 (Dense)                  (None, 64)                6464      \n",
      "_________________________________________________________________\n",
      "activation_24 (Activation)   (None, 64)                0         \n",
      "_________________________________________________________________\n",
      "dropout_12 (Dropout)         (None, 64)                0         \n",
      "_________________________________________________________________\n",
      "out_layer (Dense)            (None, 1)                 65        \n",
      "_________________________________________________________________\n",
      "activation_25 (Activation)   (None, 1)                 0         \n",
      "=================================================================\n",
      "Total params: 586,929\n",
      "Trainable params: 586,929\n",
      "Non-trainable params: 0\n",
      "_________________________________________________________________\n",
      "Train on 86302 samples\n",
      "Epoch 1/3\n",
      "86302/86302 [==============================] - 526s 6ms/sample - loss: 0.6420 - accuracy: 0.6359\n",
      "Epoch 2/3\n",
      "86302/86302 [==============================] - 518s 6ms/sample - loss: 0.6073 - accuracy: 0.6771\n",
      "Epoch 3/3\n",
      "86302/86302 [==============================] - 522s 6ms/sample - loss: 0.5962 - accuracy: 0.6860\n"
     ]
    },
    {
     "data": {
      "text/plain": [
       "<tensorflow.python.keras.callbacks.History at 0x1873812b908>"
      ]
     },
     "execution_count": 39,
     "metadata": {},
     "output_type": "execute_result"
    }
   ],
   "source": [
    "model1 = LSTM_model()\n",
    "model1.summary()\n",
    "model1.compile(loss='binary_crossentropy',optimizer='adam',metrics=['accuracy'])\n",
    "model1.fit(X_train,Y_train,batch_size=1000,epochs=3)"
   ]
  },
  {
   "cell_type": "code",
   "execution_count": 40,
   "metadata": {},
   "outputs": [
    {
     "name": "stdout",
     "output_type": "stream",
     "text": [
      "3000/3000 [==============================] - 12s 4ms/sample - loss: 0.6193 - accuracy: 0.6547\n",
      "Test set\n",
      "  Loss: 0.619\n",
      "  Accuracy: 0.655\n"
     ]
    }
   ],
   "source": [
    "accr = model1.evaluate(X_test,Y_test)\n",
    "print('Test set\\n  Loss: {:0.3f}\\n  Accuracy: {:0.3f}'.format(accr[0],accr[1]))"
   ]
  },
  {
   "cell_type": "code",
   "execution_count": 41,
   "metadata": {},
   "outputs": [
    {
     "name": "stdout",
     "output_type": "stream",
     "text": [
      "Model: \"model_13\"\n",
      "_________________________________________________________________\n",
      "Layer (type)                 Output Shape              Param #   \n",
      "=================================================================\n",
      "inputs (InputLayer)          [(None, 250)]             0         \n",
      "_________________________________________________________________\n",
      "embedding_13 (Embedding)     (None, 250, 100)          500000    \n",
      "_________________________________________________________________\n",
      "simple_rnn_5 (SimpleRNN)     (None, 100)               20100     \n",
      "_________________________________________________________________\n",
      "FC1 (Dense)                  (None, 64)                6464      \n",
      "_________________________________________________________________\n",
      "activation_26 (Activation)   (None, 64)                0         \n",
      "_________________________________________________________________\n",
      "dropout_13 (Dropout)         (None, 64)                0         \n",
      "_________________________________________________________________\n",
      "out_layer (Dense)            (None, 1)                 65        \n",
      "_________________________________________________________________\n",
      "activation_27 (Activation)   (None, 1)                 0         \n",
      "=================================================================\n",
      "Total params: 526,629\n",
      "Trainable params: 526,629\n",
      "Non-trainable params: 0\n",
      "_________________________________________________________________\n",
      "Train on 86302 samples\n",
      "Epoch 1/10\n",
      "86302/86302 [==============================] - 142s 2ms/sample - loss: 0.6556 - accuracy: 0.6101\n",
      "Epoch 2/10\n",
      "86302/86302 [==============================] - 128s 1ms/sample - loss: 0.6041 - accuracy: 0.6806\n",
      "Epoch 3/10\n",
      "86302/86302 [==============================] - 133s 2ms/sample - loss: 0.5586 - accuracy: 0.7152\n",
      "Epoch 4/10\n",
      "86302/86302 [==============================] - 132s 2ms/sample - loss: 0.4831 - accuracy: 0.7675\n",
      "Epoch 5/10\n",
      "86302/86302 [==============================] - 130s 2ms/sample - loss: 0.3854 - accuracy: 0.8240\n",
      "Epoch 6/10\n",
      "86302/86302 [==============================] - 132s 2ms/sample - loss: 0.3003 - accuracy: 0.8678\n",
      "Epoch 7/10\n",
      "86302/86302 [==============================] - 132s 2ms/sample - loss: 0.2335 - accuracy: 0.9019\n",
      "Epoch 8/10\n",
      "86302/86302 [==============================] - 134s 2ms/sample - loss: 0.1813 - accuracy: 0.9267\n",
      "Epoch 9/10\n",
      "86302/86302 [==============================] - 130s 2ms/sample - loss: 0.1486 - accuracy: 0.9417\n",
      "Epoch 10/10\n",
      "86302/86302 [==============================] - 130s 2ms/sample - loss: 0.1171 - accuracy: 0.9558\n"
     ]
    },
    {
     "data": {
      "text/plain": [
       "<tensorflow.python.keras.callbacks.History at 0x18737832c88>"
      ]
     },
     "execution_count": 41,
     "metadata": {},
     "output_type": "execute_result"
    }
   ],
   "source": [
    "model2 = SimpleRNN_model()\n",
    "model2.summary()\n",
    "model2.compile(loss='binary_crossentropy',optimizer='adam',metrics=['accuracy'])\n",
    "model2.fit(X_train,Y_train,batch_size=1000,epochs=10)"
   ]
  },
  {
   "cell_type": "code",
   "execution_count": 43,
   "metadata": {},
   "outputs": [
    {
     "name": "stdout",
     "output_type": "stream",
     "text": [
      "3000/3000 [==============================] - 3s 1ms/sample - loss: 2.0217 - accuracy: 0.5820\n",
      "Test set\n",
      "  Loss: 2.022\n",
      "  Accuracy: 0.582\n"
     ]
    }
   ],
   "source": [
    "accr = model2.evaluate(X_test,Y_test)\n",
    "print('Test set\\n  Loss: {:0.3f}\\n  Accuracy: {:0.3f}'.format(accr[0],accr[1]))"
   ]
  },
  {
   "cell_type": "code",
   "execution_count": null,
   "metadata": {},
   "outputs": [],
   "source": []
  }
 ],
 "metadata": {
  "kernelspec": {
   "display_name": "Python 3",
   "language": "python",
   "name": "python3"
  },
  "language_info": {
   "codemirror_mode": {
    "name": "ipython",
    "version": 3
   },
   "file_extension": ".py",
   "mimetype": "text/x-python",
   "name": "python",
   "nbconvert_exporter": "python",
   "pygments_lexer": "ipython3",
   "version": "3.7.6"
  }
 },
 "nbformat": 4,
 "nbformat_minor": 5
}
